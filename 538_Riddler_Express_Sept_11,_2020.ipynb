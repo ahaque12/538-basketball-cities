{
  "nbformat": 4,
  "nbformat_minor": 0,
  "metadata": {
    "colab": {
      "name": "538 Riddler Express Sept 11, 2020.ipynb",
      "provenance": [],
      "collapsed_sections": [],
      "authorship_tag": "ABX9TyOiudOI2KtgzZrFqA42UXBH",
      "include_colab_link": true
    },
    "kernelspec": {
      "name": "python3",
      "display_name": "Python 3"
    }
  },
  "cells": [
    {
      "cell_type": "markdown",
      "metadata": {
        "id": "view-in-github",
        "colab_type": "text"
      },
      "source": [
        "<a href=\"https://colab.research.google.com/github/ahaque12/538-basketball-cities/blob/master/538_Riddler_Express_Sept_11%2C_2020.ipynb\" target=\"_parent\"><img src=\"https://colab.research.google.com/assets/colab-badge.svg\" alt=\"Open In Colab\"/></a>"
      ]
    },
    {
      "cell_type": "markdown",
      "metadata": {
        "id": "P4Ic2-PLoitR",
        "colab_type": "text"
      },
      "source": [
        "# 538 Riddler Express\n",
        "From Zack Beamer comes a baffling brain teaser of basketball, just in time for the NBA playoffs:\n",
        "\n",
        "Once a week, folks from Blacksburg, Greensboro, and Silver Spring get together for a game of pickup basketball. Every week, anywhere from one to five individuals will show up from each town, with each outcome equally likely.\n",
        "\n",
        "Using all the players that show up, they want to create exactly two teams of equal size. Being a prideful bunch, everyone wears a jersey that matches the color mentioned in the name of their city. However, since it might create confusion to have one jersey playing for both sides, they agree that the residents of two towns will combine forces to play against the third town’s residents.\n",
        "\n",
        "What is the probability that, on any given week, it’s possible to form two equal teams with everyone playing, where two towns are pitted against the third?\n",
        "\n",
        "Extra credit: Suppose that, instead of anywhere from one to five individuals per town, anywhere from one to N individuals show up per town. Now what’s the probability that there will be two equal teams?"
      ]
    },
    {
      "cell_type": "code",
      "metadata": {
        "id": "s2XdExVbogLf",
        "colab_type": "code",
        "colab": {}
      },
      "source": [
        "import numpy as np\n",
        "import pandas as pd\n",
        "import matplotlib.pyplot as plt\n",
        "\n",
        "plt.style.use('ggplot')"
      ],
      "execution_count": 1,
      "outputs": []
    },
    {
      "cell_type": "markdown",
      "metadata": {
        "id": "lH5PyF2OV8aZ",
        "colab_type": "text"
      },
      "source": [
        "# Simulation\n",
        "\n",
        "One way to solve this is by simulating scenarios."
      ]
    },
    {
      "cell_type": "code",
      "metadata": {
        "id": "_-LO_K6xoovt",
        "colab_type": "code",
        "colab": {
          "base_uri": "https://localhost:8080/",
          "height": 68
        },
        "outputId": "e094a090-8d2a-45ea-8e13-91a8dc820e7a"
      },
      "source": [
        "def generate_sample(n, players=5):\n",
        "    \"\"\" Generate sample of players from each city.\n",
        "    \"\"\"\n",
        "    return np.random.randint(1, players + 1, size=(n, 3))\n",
        "\n",
        "num_players = generate_sample(3)\n",
        "num_players"
      ],
      "execution_count": 2,
      "outputs": [
        {
          "output_type": "execute_result",
          "data": {
            "text/plain": [
              "array([[3, 2, 5],\n",
              "       [3, 3, 2],\n",
              "       [4, 4, 3]])"
            ]
          },
          "metadata": {
            "tags": []
          },
          "execution_count": 2
        }
      ]
    },
    {
      "cell_type": "code",
      "metadata": {
        "id": "dsIeiHw5o8fW",
        "colab_type": "code",
        "colab": {
          "base_uri": "https://localhost:8080/",
          "height": 34
        },
        "outputId": "b6a8de89-ab46-4b45-8ea5-c6ca9ecc9bb6"
      },
      "source": [
        "def equal_teams(x):\n",
        "  \"\"\" Determine if one team has the same number of players as the \n",
        "      other two combined.\n",
        "  \"\"\"\n",
        "  return (x[:, 0] + x[:, 1] == x[:, 2]) | \\\n",
        "         (x[:, 0] + x[:, 2] == x[:, 1]) | \\\n",
        "         (x[:, 1] + x[:, 2] == x[:, 0])\n",
        "\n",
        "equal_teams(np.array([[2, 2, 4], \n",
        "                      [1, 3, 5]]))"
      ],
      "execution_count": 3,
      "outputs": [
        {
          "output_type": "execute_result",
          "data": {
            "text/plain": [
              "array([ True, False])"
            ]
          },
          "metadata": {
            "tags": []
          },
          "execution_count": 3
        }
      ]
    },
    {
      "cell_type": "code",
      "metadata": {
        "id": "qXb5mf1vqT7P",
        "colab_type": "code",
        "colab": {
          "base_uri": "https://localhost:8080/",
          "height": 34
        },
        "outputId": "b573b23d-d862-4187-bdba-ccadf01e5233"
      },
      "source": [
        "n = 1000000\n",
        "x = equal_teams(generate_sample(n, players=5))\n",
        "x.mean(), x.std() / np.sqrt(x.shape[0])"
      ],
      "execution_count": 4,
      "outputs": [
        {
          "output_type": "execute_result",
          "data": {
            "text/plain": [
              "(0.240146, 0.00042717197787776293)"
            ]
          },
          "metadata": {
            "tags": []
          },
          "execution_count": 4
        }
      ]
    },
    {
      "cell_type": "code",
      "metadata": {
        "id": "VgVYkMFgqzoX",
        "colab_type": "code",
        "colab": {
          "base_uri": "https://localhost:8080/",
          "height": 299
        },
        "outputId": "589fb639-203c-463d-bbeb-c957165b4ce7"
      },
      "source": [
        "prob = []\n",
        "players = np.arange(5, 101, 5)\n",
        "simulations = 100000\n",
        "\n",
        "for n in players:\n",
        "    x = equal_teams(generate_sample(simulations, players=n))\n",
        "    prob.append(x.mean())\n",
        "\n",
        "pd.DataFrame({\"Prob\": prob, \"Players\": players}).plot(kind=\"line\", x=\"Players\", marker=\"o\", title=\"Probabilities\");"
      ],
      "execution_count": 5,
      "outputs": [
        {
          "output_type": "display_data",
          "data": {
            "image/png": "[encoded data removed]",
            "text/plain": [
              "<Figure size 432x288 with 1 Axes>"
            ]
          },
          "metadata": {
            "tags": [],
            "needs_background": "light"
          }
        }
      ]
    },
    {
      "cell_type": "code",
      "metadata": {
        "id": "PoT5bia4rkFC",
        "colab_type": "code",
        "colab": {
          "base_uri": "https://localhost:8080/",
          "height": 34
        },
        "outputId": "c8ba0742-ef3e-4b16-98c3-3037f91cbc9c"
      },
      "source": [
        "coef = np.polyfit(players, prob, deg=2)\n",
        "coef"
      ],
      "execution_count": 6,
      "outputs": [
        {
          "output_type": "execute_result",
          "data": {
            "text/plain": [
              "array([ 3.67458647e-05, -5.22221053e-03,  1.91552263e-01])"
            ]
          },
          "metadata": {
            "tags": []
          },
          "execution_count": 6
        }
      ]
    },
    {
      "cell_type": "markdown",
      "metadata": {
        "id": "YvxCvYVyWPFM",
        "colab_type": "text"
      },
      "source": [
        "We can try fitting a curve to these probabilities."
      ]
    },
    {
      "cell_type": "code",
      "metadata": {
        "id": "sLlfFhRWyXQK",
        "colab_type": "code",
        "colab": {}
      },
      "source": [
        "def gen_matrix(coef):\n",
        "  X = []\n",
        "  m = len(coef)\n",
        "\n",
        "  for i in range(m):\n",
        "      X.append(players**(m - i - 1))\n",
        "\n",
        "  X = np.array(X).T\n",
        "  return X\n",
        "\n",
        "X = gen_matrix(coef)"
      ],
      "execution_count": 7,
      "outputs": []
    },
    {
      "cell_type": "code",
      "metadata": {
        "id": "ixo5cDmpzV21",
        "colab_type": "code",
        "colab": {
          "base_uri": "https://localhost:8080/",
          "height": 299
        },
        "outputId": "15b66c7f-d219-4a43-e0c1-8f5490e3b963"
      },
      "source": [
        "def predict(X, coef):\n",
        "    return X.dot(coef.reshape((-1, 1)))\n",
        "\n",
        "def smooth(x, y, degree=2):\n",
        "    coef = np.polyfit(x, y, deg=degree)\n",
        "    X = gen_matrix(coef)\n",
        "\n",
        "    return predict(X, coef).ravel()\n",
        "\n",
        "pd.DataFrame({\"Prob\": prob, \n",
        "              \"Players\": players, \n",
        "              \"Predicted\": smooth(players, prob, degree=2)}).plot(kind=\"line\", \n",
        "                                                                  x=\"Players\", \n",
        "                                                                  marker=\"o\", \n",
        "                                                                  title=\"Probabilities\");"
      ],
      "execution_count": 8,
      "outputs": [
        {
          "output_type": "display_data",
          "data": {
            "image/png": "[encoded data removed]",
            "text/plain": [
              "<Figure size 432x288 with 1 Axes>"
            ]
          },
          "metadata": {
            "tags": [],
            "needs_background": "light"
          }
        }
      ]
    },
    {
      "cell_type": "markdown",
      "metadata": {
        "id": "Ow90g1SeCuE_",
        "colab_type": "text"
      },
      "source": [
        "## Analytical solution\n",
        "\n",
        "Suppose we have three cities. Let $x_i$ indicate the number of players attending from the $i$th city. We know $x_i \\in [1, n]$. \n",
        "\n",
        "We can solve this using counting. There are $n^3$ permutations of people from each city attending the game. We can look at any city $i$ and look at the probability of the number of players from that city being equal to the combined number of players attending from the other cities. Denote this probability as $A_i$ for the $i$th city.\n",
        "\n",
        "Because each of these events are distinct (there is no scenario where two teams have the number of players as the remaining two combined), once we find $A_i$ the total probability of having two equal teams is $3*A_i$. \n",
        "\n",
        "Let's look at the first city. If the city has $m$ players, there are $m-1$ number of ways the remaining cities can add up to $m$. This is because you have $1 + (m-1)$, $2 + (m-2)$, etc. This is true if that city sends a minimum of 2 players (if that city sends one player the other two cities cannot add up to one), and a maximum of $n$ players. Therefore we are left with the formula:\n",
        "\n",
        "\\begin{align}\n",
        "A_i &= \\frac{\\sum_{m=2}^n \\sum_{j=1}^{m-1} 1}{n^3} \\\\\n",
        "&= \\frac{\\sum_{m=2}^n m - 1}{n^3} \\\\\n",
        "&= \\frac{\\frac{n(n+1)}{2} - 1 - (n - 1)}{n^3} \\\\\n",
        "&= \\frac{1}{2}*\\frac{n - 1} {n^2}\n",
        "\\end{align}\n",
        "\n",
        "The total probability of having two equal teams is therefore:\n",
        "\\begin{align}\n",
        "\\frac{3}{2}*\\frac{n-1}{n^2}\n",
        "\\end{align}"
      ]
    },
    {
      "cell_type": "code",
      "metadata": {
        "id": "z_MHG0wA1WZ2",
        "colab_type": "code",
        "colab": {
          "base_uri": "https://localhost:8080/",
          "height": 299
        },
        "outputId": "a83c8ca1-f639-4f9a-afc1-95fe6111f894"
      },
      "source": [
        "pd.DataFrame({\"Prob\": prob, \n",
        "              \"Players\": players, \n",
        "              \"Predicted\": 1.5*(players - 1) / (players**2)}).plot(kind=\"line\", \n",
        "                                                                  x=\"Players\", \n",
        "                                                                  marker=\"o\", \n",
        "                                                                  title=\"Probabilities\");"
      ],
      "execution_count": 9,
      "outputs": [
        {
          "output_type": "display_data",
          "data": {
            "image/png": "[encoded data removed]",
            "text/plain": [
              "<Figure size 432x288 with 1 Axes>"
            ]
          },
          "metadata": {
            "tags": [],
            "needs_background": "light"
          }
        }
      ]
    }
  ]
}